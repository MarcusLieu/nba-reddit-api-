{
 "cells": [
  {
   "cell_type": "code",
   "execution_count": 47,
   "metadata": {},
   "outputs": [
    {
     "name": "stdout",
     "output_type": "stream",
     "text": [
      "{'France': 100, 'Wemby': 58, 'Germany': 53, 'better': 39, 'US': 36, 'good': 36, 'best': 33, 'bad': 31, 'USA': 30, 'Gobert': 30, 'medal': 29, 'refs': 29, '2': 27, 'Yabusele': 27, 'Franz': 26, 'players': 25, '3': 24, 'Canada': 24, 'least': 23, 'last': 23}\n"
     ]
    }
   ],
   "source": [
    "import praw\n",
    "import nltk\n",
    "from nltk.corpus import stopwords\n",
    "import string\n",
    "import operator\n",
    "\n",
    "# initialize reddit class\n",
    "# api key and secret for nbabot1 stored in praw.ini file located in .config file\n",
    "reddit = praw.Reddit(\"nbabot1\", user_agent=\"script by u/Prestigious_Juice_97\")\n",
    "\n",
    "# create dictionary to hold number of occurances in submissions\n",
    "term_count = {}\n",
    "\n",
    "#create list of stop words to avoid counting\n",
    "punc = list(string.punctuation)\n",
    "filler_words = [\"[Post\", \"Game\", \"Thread]\", \n",
    "\"i\", \"would\", \"really\", \"like\", \"team\", \"got\", \"get\", \"he'\",\"he\", \"the\", \"think\", \n",
    "\"still\", \"they\", \"i'm\", \"it\", \"if\", \"even\", \"much\", \"gonna\", \"going\", \"well\", \"\", \n",
    "\"play\", \"played\", \"game\", \"know\", \"game.\", \"playing\", \"see\", \"one\"]\n",
    "stop = stopwords.words(\"english\") + punc + filler_words\n",
    "# iterate through top game threads of the month\n",
    "for submission in reddit.subreddit(\"nba\").search(query=\"[Post Game Thread]\",sort=\"relevance\", time_filter=\"month\", limit=1):\n",
    "    # parse through title first\n",
    "    for term in submission.title.split(\" \"):\n",
    "        if term not in stop:\n",
    "            term_count[term] = 1 + term_count.get(term, 0)\n",
    "    # parse through comments in each submission and use queue to parse through comment replies\n",
    "    submission.comments.replace_more(limit=None)\n",
    "    for comment in submission.comments.list():\n",
    "        for term in comment.body.split(\" \"):\n",
    "            if term.lower() not in stop:\n",
    "                term_count[term] = 1 + term_count.get(term, 0)\n",
    "\n",
    "\n",
    "\n",
    "res = dict(sorted(term_count.items(), key=operator.itemgetter(1), reverse=True)[:20])\n",
    "print(res)\n",
    "\n",
    "\n",
    "\n",
    "\n"
   ]
  },
  {
   "cell_type": "code",
   "execution_count": 53,
   "metadata": {},
   "outputs": [
    {
     "data": {
      "image/png": "[encoded data removed]",
      "text/plain": [
       "<Figure size 1440x360 with 1 Axes>"
      ]
     },
     "metadata": {
      "needs_background": "light"
     },
     "output_type": "display_data"
    }
   ],
   "source": [
    "import matplotlib.pyplot as plt\n",
    "\n",
    "terms = list(res.keys())\n",
    "values = list(res.values())\n",
    "\n",
    "fig = plt.figure(figsize= (20, 5))\n",
    "\n",
    "# create bar graph\n",
    "plt.bar(terms, values, edgecolor=\"red\", width = 0.3, fill=False, align=\"edge\")\n",
    "plt.xlabel(\"terms\")\n",
    "plt.ylabel(\"occurances\")\n",
    "plt.title(\"most common terms in top game thread of the month\")\n",
    "plt.show()"
   ]
  }
 ],
 "metadata": {
  "kernelspec": {
   "display_name": "Python 3.9.12 ('base')",
   "language": "python",
   "name": "python3"
  },
  "language_info": {
   "codemirror_mode": {
    "name": "ipython",
    "version": 3
   },
   "file_extension": ".py",
   "mimetype": "text/x-python",
   "name": "python",
   "nbconvert_exporter": "python",
   "pygments_lexer": "ipython3",
   "version": "3.9.12"
  },
  "orig_nbformat": 4,
  "vscode": {
   "interpreter": {
    "hash": "e381da1980ee5b060273cedb6dff41f05843443444fb64610dbb5035d4bf1969"
   }
  }
 },
 "nbformat": 4,
 "nbformat_minor": 2
}
