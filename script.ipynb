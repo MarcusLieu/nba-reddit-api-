{
 "cells": [
  {
   "cell_type": "code",
   "execution_count": 12,
   "metadata": {},
   "outputs": [
    {
     "name": "stdout",
     "output_type": "stream",
     "text": [
      "[Post Game Thread] France defeats Germany 73-69 behind Guerschon Yabusele's 17pts/7reb/2ast to advance to the Olympic Gold Medal match\n",
      "[Post Game Thread] USA defeats Serbia 95-91 behind Steph Curry's 36 point (9/14 3pt) and Joel Embiid's 19pts/4reb/2ast performances to face France in the Olympic Gold Medal Match\n",
      "[Post Game Thread] USA defeats France 98-87 behind LeBron's 14pts/6reb/10ast and Steph Curry's 24 point (8/12 3pt) performances to win their 17th gold medal in Olympic Men's Basketball\n",
      "[Post Game Thread] USA defeats Brazil 122-87 to face Serbia in the Olympic Semifinals\n",
      "[Post Game Thread] Serbia defeats Australia 95-90 in OT and advances to the Olympic Semifinals\n"
     ]
    }
   ],
   "source": [
    "import praw\n",
    "\n",
    "# initialize reddit class\n",
    "reddit = praw.Reddit(\"nbabot1\", user_agent=\"script by u/Prestigious_Juice_97\")\n",
    "\n",
    "# create dictionary to hold number of occurances in submissions\n",
    "term_count = {}\n",
    "\n",
    "# iterate through top 5 game threads of the month\n",
    "for submission in reddit.subreddit(\"nba\").search(query=\"[Post Game Thread]\",sort=\"relevance\", time_filter=\"month\", limit=5):\n",
    "    print(submission.title)\n"
   ]
  }
 ],
 "metadata": {
  "kernelspec": {
   "display_name": "Python 3.9.12 ('base')",
   "language": "python",
   "name": "python3"
  },
  "language_info": {
   "codemirror_mode": {
    "name": "ipython",
    "version": 3
   },
   "file_extension": ".py",
   "mimetype": "text/x-python",
   "name": "python",
   "nbconvert_exporter": "python",
   "pygments_lexer": "ipython3",
   "version": "3.9.12"
  },
  "orig_nbformat": 4,
  "vscode": {
   "interpreter": {
    "hash": "e381da1980ee5b060273cedb6dff41f05843443444fb64610dbb5035d4bf1969"
   }
  }
 },
 "nbformat": 4,
 "nbformat_minor": 2
}
